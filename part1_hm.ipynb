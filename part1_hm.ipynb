{
 "cells": [
  {
   "cell_type": "markdown",
   "id": "8cf28729-3408-4d85-95ba-ecdd6294a1fa",
   "metadata": {
    "tags": []
   },
   "source": [
    "<img src='http://imgur.com/1ZcRyrc.png' style='float: left; margin: 20px; height: 55px'>\n",
    "\n",
    "# Capstone Project: H & M Recommender System\n",
    "## Part 1\n",
    "---\n",
    "## Contents\n",
    "---\n",
    "\n",
    "### Part 1\n",
    "1. Introduction\n",
    "2. Problem Statement\n",
    "3. Data Import and Cleaning\n",
    "\n",
    "### [Part 2](part2_hm.ipynb)\n",
    "4. [Exploratory Data Analysis](#4.-EDA)\n",
    "\n",
    "### [Part 3](part3_hm.ipynb)\n",
    "5.  [User-Item Matrix](#5.-User-item Matrix)\n",
    "6.  [Challenges](#6.-Challenges)\n",
    "7.  [Conclusion](#7.-Conclusion)\n"
   ]
  },
  {
   "cell_type": "markdown",
   "id": "bf92c36f-51e7-48b7-927f-a0a8d3c632f0",
   "metadata": {},
   "source": [
    "## 1. Introduction \n",
    "\n",
    "### 1.1 Background\n",
    "\n",
    "H&M Group is a family of brands and businesses with 53 online markets and approximately 4,850 stores. Her online store offers shoppers an extensive selection of products to browse through. \n",
    "\n",
    "While some customers are good at searching for what they want, others may prefer not to. Hence, product recommendations become key in enhancing customer experience.\n",
    "\n",
    "Simple data, such as garment type and customer age, to text data from product descriptions, to image data from garment images have been gathered through the years 2018 to 2021 to study customer transactions.\n",
    "\n",
    "## 2. Problem Statement\n",
    "H&M Customers have too many products to browse online. They might not quickly find what interests them or what they are looking for, and ultimately, might not make a purchase. To help customers make the right choices, product recommendations become important. \n",
    "\n",
    "In this competition, H&M Group invites participants to develop product recommendations based on data from previous transactions, as well as from customer and product meta data.\n",
    "\n",
    "reference:https://www.kaggle.com/competitions/h-and-m-personalized-fashion-recommendations/overview"
   ]
  },
  {
   "cell_type": "markdown",
   "id": "fd303192-9270-46a5-b7cf-9c094a024a39",
   "metadata": {},
   "source": [
    "## 3. Imports "
   ]
  },
  {
   "cell_type": "markdown",
   "id": "13b4d1a1-cd8f-42a9-9705-08f838ebd8b0",
   "metadata": {},
   "source": [
    "### 3.1 Import libraries and files"
   ]
  },
  {
   "cell_type": "code",
   "execution_count": 1,
   "id": "3695260a-dbc2-4fb2-b65b-d70030bf920c",
   "metadata": {
    "tags": []
   },
   "outputs": [
    {
     "name": "stderr",
     "output_type": "stream",
     "text": [
      "C:\\Users\\msyee\\anaconda3\\Lib\\site-packages\\paramiko\\transport.py:219: CryptographyDeprecationWarning: Blowfish has been deprecated\n",
      "  \"class\": algorithms.Blowfish,\n"
     ]
    }
   ],
   "source": [
    "#import libraries\n",
    "import pandas as pd\n",
    "import numpy as np\n",
    "import seaborn as sns\n",
    "import matplotlib.pyplot as plt\n",
    "import plotly.graph_objects as go\n",
    "from skimage import io\n",
    "import random\n",
    "from sklearn.preprocessing import OneHotEncoder\n"
   ]
  },
  {
   "cell_type": "code",
   "execution_count": 2,
   "id": "8faa57f4-62cb-4153-9d2c-5d857a9aa783",
   "metadata": {
    "tags": []
   },
   "outputs": [],
   "source": [
    "# reading files\n",
    "df = pd.read_csv('../data/articles.csv')\n",
    "df_customers = pd.read_csv('../data/customers.csv')\n",
    "df_transaction_train = pd.read_csv('../data/transactions_train.csv')"
   ]
  },
  {
   "cell_type": "code",
   "execution_count": 3,
   "id": "e1bfa748-b477-4319-b3db-fe8b75c45565",
   "metadata": {
    "tags": []
   },
   "outputs": [
    {
     "data": {
      "text/plain": [
       "(105542, 25)"
      ]
     },
     "execution_count": 3,
     "metadata": {},
     "output_type": "execute_result"
    }
   ],
   "source": [
    "# checking for shape of articles data\n",
    "df.shape"
   ]
  },
  {
   "cell_type": "code",
   "execution_count": 4,
   "id": "7ae2eb94-25b7-477f-8575-34410ca7f96c",
   "metadata": {
    "tags": []
   },
   "outputs": [
    {
     "data": {
      "text/plain": [
       "(1371980, 7)"
      ]
     },
     "execution_count": 4,
     "metadata": {},
     "output_type": "execute_result"
    }
   ],
   "source": [
    "#checking for shape of customers data\n",
    "df_customers.shape"
   ]
  },
  {
   "cell_type": "code",
   "execution_count": 5,
   "id": "a2f1a82c-0e63-407d-b515-a1100747e3cf",
   "metadata": {
    "tags": []
   },
   "outputs": [
    {
     "data": {
      "text/plain": [
       "(31788324, 5)"
      ]
     },
     "execution_count": 5,
     "metadata": {},
     "output_type": "execute_result"
    }
   ],
   "source": [
    "#checking for shape of transactions data\n",
    "df_transaction_train.shape"
   ]
  },
  {
   "cell_type": "code",
   "execution_count": 7,
   "id": "df9913e8-334d-4e26-a9f0-309fc76c5e47",
   "metadata": {
    "tags": []
   },
   "outputs": [
    {
     "data": {
      "text/html": [
       "<div>\n",
       "<style scoped>\n",
       "    .dataframe tbody tr th:only-of-type {\n",
       "        vertical-align: middle;\n",
       "    }\n",
       "\n",
       "    .dataframe tbody tr th {\n",
       "        vertical-align: top;\n",
       "    }\n",
       "\n",
       "    .dataframe thead th {\n",
       "        text-align: right;\n",
       "    }\n",
       "</style>\n",
       "<table border=\"1\" class=\"dataframe\">\n",
       "  <thead>\n",
       "    <tr style=\"text-align: right;\">\n",
       "      <th></th>\n",
       "      <th>article_id</th>\n",
       "      <th>product_code</th>\n",
       "      <th>prod_name</th>\n",
       "      <th>product_type_no</th>\n",
       "      <th>product_type_name</th>\n",
       "      <th>product_group_name</th>\n",
       "      <th>graphical_appearance_no</th>\n",
       "      <th>graphical_appearance_name</th>\n",
       "      <th>colour_group_code</th>\n",
       "      <th>colour_group_name</th>\n",
       "      <th>...</th>\n",
       "      <th>department_name</th>\n",
       "      <th>index_code</th>\n",
       "      <th>index_name</th>\n",
       "      <th>index_group_no</th>\n",
       "      <th>index_group_name</th>\n",
       "      <th>section_no</th>\n",
       "      <th>section_name</th>\n",
       "      <th>garment_group_no</th>\n",
       "      <th>garment_group_name</th>\n",
       "      <th>detail_desc</th>\n",
       "    </tr>\n",
       "  </thead>\n",
       "  <tbody>\n",
       "    <tr>\n",
       "      <th>0</th>\n",
       "      <td>108775015</td>\n",
       "      <td>108775</td>\n",
       "      <td>Strap top</td>\n",
       "      <td>253</td>\n",
       "      <td>Vest top</td>\n",
       "      <td>Garment Upper body</td>\n",
       "      <td>1010016</td>\n",
       "      <td>Solid</td>\n",
       "      <td>9</td>\n",
       "      <td>Black</td>\n",
       "      <td>...</td>\n",
       "      <td>Jersey Basic</td>\n",
       "      <td>A</td>\n",
       "      <td>Ladieswear</td>\n",
       "      <td>1</td>\n",
       "      <td>Ladieswear</td>\n",
       "      <td>16</td>\n",
       "      <td>Womens Everyday Basics</td>\n",
       "      <td>1002</td>\n",
       "      <td>Jersey Basic</td>\n",
       "      <td>Jersey top with narrow shoulder straps.</td>\n",
       "    </tr>\n",
       "  </tbody>\n",
       "</table>\n",
       "<p>1 rows × 25 columns</p>\n",
       "</div>"
      ],
      "text/plain": [
       "   article_id  product_code  prod_name  product_type_no product_type_name  \\\n",
       "0   108775015        108775  Strap top              253          Vest top   \n",
       "\n",
       "   product_group_name  graphical_appearance_no graphical_appearance_name  \\\n",
       "0  Garment Upper body                  1010016                     Solid   \n",
       "\n",
       "   colour_group_code colour_group_name  ...  department_name index_code  \\\n",
       "0                  9             Black  ...     Jersey Basic          A   \n",
       "\n",
       "   index_name index_group_no  index_group_name section_no  \\\n",
       "0  Ladieswear              1        Ladieswear         16   \n",
       "\n",
       "             section_name garment_group_no  garment_group_name  \\\n",
       "0  Womens Everyday Basics             1002        Jersey Basic   \n",
       "\n",
       "                               detail_desc  \n",
       "0  Jersey top with narrow shoulder straps.  \n",
       "\n",
       "[1 rows x 25 columns]"
      ]
     },
     "execution_count": 7,
     "metadata": {},
     "output_type": "execute_result"
    }
   ],
   "source": [
    "# checking for headings of articles data\n",
    "df.head(1)"
   ]
  },
  {
   "cell_type": "code",
   "execution_count": 8,
   "id": "0b82ec2d-bbc4-468c-99eb-c48c9f26e3ed",
   "metadata": {
    "tags": []
   },
   "outputs": [
    {
     "data": {
      "text/html": [
       "<div>\n",
       "<style scoped>\n",
       "    .dataframe tbody tr th:only-of-type {\n",
       "        vertical-align: middle;\n",
       "    }\n",
       "\n",
       "    .dataframe tbody tr th {\n",
       "        vertical-align: top;\n",
       "    }\n",
       "\n",
       "    .dataframe thead th {\n",
       "        text-align: right;\n",
       "    }\n",
       "</style>\n",
       "<table border=\"1\" class=\"dataframe\">\n",
       "  <thead>\n",
       "    <tr style=\"text-align: right;\">\n",
       "      <th></th>\n",
       "      <th>customer_id</th>\n",
       "      <th>FN</th>\n",
       "      <th>Active</th>\n",
       "      <th>club_member_status</th>\n",
       "      <th>fashion_news_frequency</th>\n",
       "      <th>age</th>\n",
       "      <th>postal_code</th>\n",
       "    </tr>\n",
       "  </thead>\n",
       "  <tbody>\n",
       "    <tr>\n",
       "      <th>0</th>\n",
       "      <td>00000dbacae5abe5e23885899a1fa44253a17956c6d1c3...</td>\n",
       "      <td>NaN</td>\n",
       "      <td>NaN</td>\n",
       "      <td>ACTIVE</td>\n",
       "      <td>NONE</td>\n",
       "      <td>49.0</td>\n",
       "      <td>52043ee2162cf5aa7ee79974281641c6f11a68d276429a...</td>\n",
       "    </tr>\n",
       "  </tbody>\n",
       "</table>\n",
       "</div>"
      ],
      "text/plain": [
       "                                         customer_id  FN  Active  \\\n",
       "0  00000dbacae5abe5e23885899a1fa44253a17956c6d1c3... NaN     NaN   \n",
       "\n",
       "  club_member_status fashion_news_frequency   age  \\\n",
       "0             ACTIVE                   NONE  49.0   \n",
       "\n",
       "                                         postal_code  \n",
       "0  52043ee2162cf5aa7ee79974281641c6f11a68d276429a...  "
      ]
     },
     "execution_count": 8,
     "metadata": {},
     "output_type": "execute_result"
    }
   ],
   "source": [
    "# checking for headings of customers data\n",
    "df_customers.head(1)"
   ]
  },
  {
   "cell_type": "code",
   "execution_count": 9,
   "id": "99f28df7-606a-45af-b80b-e96d63abea5a",
   "metadata": {
    "tags": []
   },
   "outputs": [
    {
     "data": {
      "text/html": [
       "<div>\n",
       "<style scoped>\n",
       "    .dataframe tbody tr th:only-of-type {\n",
       "        vertical-align: middle;\n",
       "    }\n",
       "\n",
       "    .dataframe tbody tr th {\n",
       "        vertical-align: top;\n",
       "    }\n",
       "\n",
       "    .dataframe thead th {\n",
       "        text-align: right;\n",
       "    }\n",
       "</style>\n",
       "<table border=\"1\" class=\"dataframe\">\n",
       "  <thead>\n",
       "    <tr style=\"text-align: right;\">\n",
       "      <th></th>\n",
       "      <th>t_dat</th>\n",
       "      <th>customer_id</th>\n",
       "      <th>article_id</th>\n",
       "      <th>price</th>\n",
       "      <th>sales_channel_id</th>\n",
       "    </tr>\n",
       "  </thead>\n",
       "  <tbody>\n",
       "    <tr>\n",
       "      <th>0</th>\n",
       "      <td>2018-09-20</td>\n",
       "      <td>000058a12d5b43e67d225668fa1f8d618c13dc232df0ca...</td>\n",
       "      <td>663713001</td>\n",
       "      <td>0.050831</td>\n",
       "      <td>2</td>\n",
       "    </tr>\n",
       "  </tbody>\n",
       "</table>\n",
       "</div>"
      ],
      "text/plain": [
       "        t_dat                                        customer_id  article_id  \\\n",
       "0  2018-09-20  000058a12d5b43e67d225668fa1f8d618c13dc232df0ca...   663713001   \n",
       "\n",
       "      price  sales_channel_id  \n",
       "0  0.050831                 2  "
      ]
     },
     "execution_count": 9,
     "metadata": {},
     "output_type": "execute_result"
    }
   ],
   "source": [
    "# checking for headings of transactions data\n",
    "df_transaction_train.head(1)"
   ]
  },
  {
   "cell_type": "code",
   "execution_count": 10,
   "id": "12431051-5d39-4497-bb46-badc2582b922",
   "metadata": {
    "tags": []
   },
   "outputs": [],
   "source": [
    "# limiting customers to 10 k\n",
    "customers = np.random.choice(df_customers['customer_id'],10000)\n",
    "df_customers = df_customers[df_customers['customer_id'].isin(customers)]\n",
    "df_transaction_train = df_transaction_train[df_transaction_train['customer_id'].isin(customers)]"
   ]
  },
  {
   "cell_type": "code",
   "execution_count": 11,
   "id": "e293e0ed-6b1f-4ece-a07b-be70b77bca3e",
   "metadata": {
    "tags": []
   },
   "outputs": [],
   "source": [
    "#merging data\n",
    "merged_df = df_transaction_train.merge(df, on='article_id', validate='many_to_one')\n",
    "merged_df = merged_df.merge(df_customers,on='customer_id',validate='many_to_one')"
   ]
  },
  {
   "cell_type": "code",
   "execution_count": null,
   "id": "63845b4e-a131-4c52-8edb-4b040af2d43a",
   "metadata": {},
   "outputs": [],
   "source": [
    "# Description of the 3 datasets"
   ]
  },
  {
   "cell_type": "markdown",
   "id": "1ebb82c0-7a93-4035-9d8d-e978460997e2",
   "metadata": {},
   "source": [
    "### Articles\n",
    "article_id : A unique identifier of every article\n",
    "<br>product_code, prod_name : A unique identifier of every product and its name\n",
    "<br>product_type, product_type_name : The group of product_code and its name\n",
    "<br>graphical_appearance_no, graphical_appearance_name : The group of graphics and its name\n",
    "<br>colour_group_code, colour_group_name : The group of color and its name\n",
    "<br>perceived_colour_value_id, perceived_colour_value_name, perceived_colour_master_id, <br>perceived_colour_master_name : The added color info\n",
    "<br>department_no, department_name: : A unique identifier of every dep and its name\n",
    "<br>index_code, index_name: : A unique identifier of every index and its name\n",
    "<br>index_group_no, index_group_name: : A group of indices and its name\n",
    "<br>section_no, section_name: : A unique identifier of every section and its name\n",
    "<br>garment_group_no, garment_group_name: : A unique identifier of every garment and its name\n",
    "<br>detail_desc: : Details\n"
   ]
  },
  {
   "cell_type": "markdown",
   "id": "28c18a98-f30f-44c2-a311-0e72a7bbae24",
   "metadata": {},
   "source": [
    "### Customers data description\n",
    "<br>customer_id : A unique identifier of every customer\n",
    "<br>FN : 1 or missed (not clear what it is)\n",
    "<br>Active : 1 or missed \n",
    "<br>club_member_status : Status in club\n",
    "<br>fashion_news_frequency : How often H&M may send news to customer\n",
    "<br>age : The current age\n",
    "<br>postal_code : Postal code of customer"
   ]
  },
  {
   "cell_type": "markdown",
   "id": "44863abb-e73f-479e-9362-7aed929da47e",
   "metadata": {},
   "source": [
    "### Transactions data description\n",
    "\n",
    "<br>t_dat : Purchase date\n",
    "<br>customer_id : A unique identifier of every customer (in customers table)\n",
    "<br>article_id : A unique identifier of every article (in articles table)\n",
    "<br>price : Price of purchase\n",
    "<br>sales_channel_id : 1 or 2"
   ]
  },
  {
   "cell_type": "markdown",
   "id": "17ed2e20-83a0-4bad-bb42-8190772a6a13",
   "metadata": {},
   "source": [
    "### 3.2 Cleaning"
   ]
  },
  {
   "cell_type": "code",
   "execution_count": 6,
   "id": "2cc18bf2-2661-4818-a32a-2308c95b8b63",
   "metadata": {
    "tags": []
   },
   "outputs": [
    {
     "data": {
      "text/plain": [
       "t_dat                                0\n",
       "customer_id                          0\n",
       "article_id                           0\n",
       "price                                0\n",
       "sales_channel_id                     0\n",
       "product_code                         0\n",
       "prod_name                            0\n",
       "product_type_no                      0\n",
       "product_type_name                    0\n",
       "product_group_name                   0\n",
       "graphical_appearance_no              0\n",
       "graphical_appearance_name            0\n",
       "colour_group_code                    0\n",
       "colour_group_name                    0\n",
       "perceived_colour_value_id            0\n",
       "perceived_colour_value_name          0\n",
       "perceived_colour_master_id           0\n",
       "perceived_colour_master_name         0\n",
       "department_no                        0\n",
       "department_name                      0\n",
       "index_code                           0\n",
       "index_name                           0\n",
       "index_group_no                       0\n",
       "index_group_name                     0\n",
       "section_no                           0\n",
       "section_name                         0\n",
       "garment_group_no                     0\n",
       "garment_group_name                   0\n",
       "detail_desc                        804\n",
       "FN                              132496\n",
       "Active                          133958\n",
       "club_member_status                 609\n",
       "fashion_news_frequency            1022\n",
       "age                                789\n",
       "postal_code                          0\n",
       "dtype: int64"
      ]
     },
     "execution_count": 6,
     "metadata": {},
     "output_type": "execute_result"
    }
   ],
   "source": [
    "# checking for null values\n",
    "merged_df.isnull().sum()"
   ]
  },
  {
   "cell_type": "code",
   "execution_count": 12,
   "id": "e41dd12b-1e5e-40b7-88da-1151be4a71b6",
   "metadata": {
    "tags": []
   },
   "outputs": [],
   "source": [
    "# drop rows with null values\n",
    "merged_df.dropna(subset=['age','detail_desc','club_member_status','fashion_news_frequency'], inplace=True)"
   ]
  },
  {
   "cell_type": "code",
   "execution_count": 21,
   "id": "03f4b3ac-da4b-40e4-b03c-823839e53edd",
   "metadata": {
    "tags": []
   },
   "outputs": [],
   "source": [
    "# saving file merged_df\n",
    "merged_df.to_csv('merged_df.csv', index = False)"
   ]
  },
  {
   "cell_type": "code",
   "execution_count": 13,
   "id": "c6802b43-e2fe-47b8-b82f-ddb817ec88e7",
   "metadata": {
    "tags": []
   },
   "outputs": [],
   "source": [
    "# selecting features of articles for building user_item matrix\n",
    "df1 = merged_df[['t_dat', 'customer_id', 'article_id', 'prod_name', 'product_type_name',\n",
    "       'product_group_name',\n",
    "       'graphical_appearance_name', 'colour_group_name',\n",
    "       'perceived_colour_value_name',\n",
    "       'perceived_colour_master_name',\n",
    "       'department_name', 'index_name',\n",
    "       'index_group_name', 'section_name',\n",
    "       'garment_group_name', 'detail_desc']]\n",
    "\n",
    "feature_subset = ['product_group_name',\n",
    "       'graphical_appearance_name', 'colour_group_name',\n",
    "       'perceived_colour_value_name',\n",
    "       'perceived_colour_master_name',\n",
    "       'department_name', 'index_name',\n",
    "       'index_group_name', 'section_name',\n",
    "       'garment_group_name']"
   ]
  },
  {
   "cell_type": "code",
   "execution_count": 19,
   "id": "ee5b5e98-a19b-4222-b47f-47601e3ad0f3",
   "metadata": {
    "tags": []
   },
   "outputs": [
    {
     "data": {
      "text/html": [
       "<div>\n",
       "<style scoped>\n",
       "    .dataframe tbody tr th:only-of-type {\n",
       "        vertical-align: middle;\n",
       "    }\n",
       "\n",
       "    .dataframe tbody tr th {\n",
       "        vertical-align: top;\n",
       "    }\n",
       "\n",
       "    .dataframe thead th {\n",
       "        text-align: right;\n",
       "    }\n",
       "</style>\n",
       "<table border=\"1\" class=\"dataframe\">\n",
       "  <thead>\n",
       "    <tr style=\"text-align: right;\">\n",
       "      <th></th>\n",
       "      <th>customer_id</th>\n",
       "      <th>article_id</th>\n",
       "      <th>product_group_name_Accessories</th>\n",
       "      <th>product_group_name_Bags</th>\n",
       "      <th>product_group_name_Cosmetic</th>\n",
       "      <th>product_group_name_Garment Full body</th>\n",
       "      <th>product_group_name_Garment Lower body</th>\n",
       "      <th>product_group_name_Garment Upper body</th>\n",
       "      <th>product_group_name_Garment and Shoe care</th>\n",
       "      <th>product_group_name_Items</th>\n",
       "      <th>...</th>\n",
       "      <th>garment_group_name_Shorts</th>\n",
       "      <th>garment_group_name_Skirts</th>\n",
       "      <th>garment_group_name_Socks and Tights</th>\n",
       "      <th>garment_group_name_Special Offers</th>\n",
       "      <th>garment_group_name_Swimwear</th>\n",
       "      <th>garment_group_name_Trousers</th>\n",
       "      <th>garment_group_name_Trousers Denim</th>\n",
       "      <th>garment_group_name_Under-, Nightwear</th>\n",
       "      <th>garment_group_name_Unknown</th>\n",
       "      <th>garment_group_name_Woven/Jersey/Knitted mix Baby</th>\n",
       "    </tr>\n",
       "  </thead>\n",
       "  <tbody>\n",
       "    <tr>\n",
       "      <th>0</th>\n",
       "      <td>0247a4cfbe56ac5e1c0b5a91b0ab0aad812f6fca13d4fd...</td>\n",
       "      <td>618840005</td>\n",
       "      <td>0</td>\n",
       "      <td>0</td>\n",
       "      <td>0</td>\n",
       "      <td>0</td>\n",
       "      <td>0</td>\n",
       "      <td>1</td>\n",
       "      <td>0</td>\n",
       "      <td>0</td>\n",
       "      <td>...</td>\n",
       "      <td>0</td>\n",
       "      <td>0</td>\n",
       "      <td>0</td>\n",
       "      <td>0</td>\n",
       "      <td>0</td>\n",
       "      <td>0</td>\n",
       "      <td>0</td>\n",
       "      <td>0</td>\n",
       "      <td>0</td>\n",
       "      <td>0</td>\n",
       "    </tr>\n",
       "    <tr>\n",
       "      <th>1</th>\n",
       "      <td>0247a4cfbe56ac5e1c0b5a91b0ab0aad812f6fca13d4fd...</td>\n",
       "      <td>625034001</td>\n",
       "      <td>0</td>\n",
       "      <td>0</td>\n",
       "      <td>0</td>\n",
       "      <td>0</td>\n",
       "      <td>0</td>\n",
       "      <td>1</td>\n",
       "      <td>0</td>\n",
       "      <td>0</td>\n",
       "      <td>...</td>\n",
       "      <td>0</td>\n",
       "      <td>0</td>\n",
       "      <td>0</td>\n",
       "      <td>0</td>\n",
       "      <td>0</td>\n",
       "      <td>0</td>\n",
       "      <td>0</td>\n",
       "      <td>0</td>\n",
       "      <td>0</td>\n",
       "      <td>0</td>\n",
       "    </tr>\n",
       "    <tr>\n",
       "      <th>2</th>\n",
       "      <td>0247a4cfbe56ac5e1c0b5a91b0ab0aad812f6fca13d4fd...</td>\n",
       "      <td>659124001</td>\n",
       "      <td>0</td>\n",
       "      <td>0</td>\n",
       "      <td>1</td>\n",
       "      <td>0</td>\n",
       "      <td>0</td>\n",
       "      <td>0</td>\n",
       "      <td>0</td>\n",
       "      <td>0</td>\n",
       "      <td>...</td>\n",
       "      <td>0</td>\n",
       "      <td>0</td>\n",
       "      <td>0</td>\n",
       "      <td>0</td>\n",
       "      <td>0</td>\n",
       "      <td>0</td>\n",
       "      <td>0</td>\n",
       "      <td>0</td>\n",
       "      <td>0</td>\n",
       "      <td>0</td>\n",
       "    </tr>\n",
       "    <tr>\n",
       "      <th>3</th>\n",
       "      <td>0247a4cfbe56ac5e1c0b5a91b0ab0aad812f6fca13d4fd...</td>\n",
       "      <td>659124001</td>\n",
       "      <td>0</td>\n",
       "      <td>0</td>\n",
       "      <td>1</td>\n",
       "      <td>0</td>\n",
       "      <td>0</td>\n",
       "      <td>0</td>\n",
       "      <td>0</td>\n",
       "      <td>0</td>\n",
       "      <td>...</td>\n",
       "      <td>0</td>\n",
       "      <td>0</td>\n",
       "      <td>0</td>\n",
       "      <td>0</td>\n",
       "      <td>0</td>\n",
       "      <td>0</td>\n",
       "      <td>0</td>\n",
       "      <td>0</td>\n",
       "      <td>0</td>\n",
       "      <td>0</td>\n",
       "    </tr>\n",
       "    <tr>\n",
       "      <th>4</th>\n",
       "      <td>0247a4cfbe56ac5e1c0b5a91b0ab0aad812f6fca13d4fd...</td>\n",
       "      <td>629826001</td>\n",
       "      <td>0</td>\n",
       "      <td>0</td>\n",
       "      <td>0</td>\n",
       "      <td>0</td>\n",
       "      <td>0</td>\n",
       "      <td>1</td>\n",
       "      <td>0</td>\n",
       "      <td>0</td>\n",
       "      <td>...</td>\n",
       "      <td>0</td>\n",
       "      <td>0</td>\n",
       "      <td>0</td>\n",
       "      <td>0</td>\n",
       "      <td>0</td>\n",
       "      <td>0</td>\n",
       "      <td>0</td>\n",
       "      <td>0</td>\n",
       "      <td>0</td>\n",
       "      <td>1</td>\n",
       "    </tr>\n",
       "  </tbody>\n",
       "</table>\n",
       "<p>5 rows × 455 columns</p>\n",
       "</div>"
      ],
      "text/plain": [
       "                                         customer_id  article_id  \\\n",
       "0  0247a4cfbe56ac5e1c0b5a91b0ab0aad812f6fca13d4fd...   618840005   \n",
       "1  0247a4cfbe56ac5e1c0b5a91b0ab0aad812f6fca13d4fd...   625034001   \n",
       "2  0247a4cfbe56ac5e1c0b5a91b0ab0aad812f6fca13d4fd...   659124001   \n",
       "3  0247a4cfbe56ac5e1c0b5a91b0ab0aad812f6fca13d4fd...   659124001   \n",
       "4  0247a4cfbe56ac5e1c0b5a91b0ab0aad812f6fca13d4fd...   629826001   \n",
       "\n",
       "   product_group_name_Accessories  product_group_name_Bags  \\\n",
       "0                               0                        0   \n",
       "1                               0                        0   \n",
       "2                               0                        0   \n",
       "3                               0                        0   \n",
       "4                               0                        0   \n",
       "\n",
       "   product_group_name_Cosmetic  product_group_name_Garment Full body  \\\n",
       "0                            0                                     0   \n",
       "1                            0                                     0   \n",
       "2                            1                                     0   \n",
       "3                            1                                     0   \n",
       "4                            0                                     0   \n",
       "\n",
       "   product_group_name_Garment Lower body  \\\n",
       "0                                      0   \n",
       "1                                      0   \n",
       "2                                      0   \n",
       "3                                      0   \n",
       "4                                      0   \n",
       "\n",
       "   product_group_name_Garment Upper body  \\\n",
       "0                                      1   \n",
       "1                                      1   \n",
       "2                                      0   \n",
       "3                                      0   \n",
       "4                                      1   \n",
       "\n",
       "   product_group_name_Garment and Shoe care  product_group_name_Items  ...  \\\n",
       "0                                         0                         0  ...   \n",
       "1                                         0                         0  ...   \n",
       "2                                         0                         0  ...   \n",
       "3                                         0                         0  ...   \n",
       "4                                         0                         0  ...   \n",
       "\n",
       "   garment_group_name_Shorts  garment_group_name_Skirts  \\\n",
       "0                          0                          0   \n",
       "1                          0                          0   \n",
       "2                          0                          0   \n",
       "3                          0                          0   \n",
       "4                          0                          0   \n",
       "\n",
       "   garment_group_name_Socks and Tights  garment_group_name_Special Offers  \\\n",
       "0                                    0                                  0   \n",
       "1                                    0                                  0   \n",
       "2                                    0                                  0   \n",
       "3                                    0                                  0   \n",
       "4                                    0                                  0   \n",
       "\n",
       "   garment_group_name_Swimwear  garment_group_name_Trousers  \\\n",
       "0                            0                            0   \n",
       "1                            0                            0   \n",
       "2                            0                            0   \n",
       "3                            0                            0   \n",
       "4                            0                            0   \n",
       "\n",
       "   garment_group_name_Trousers Denim  garment_group_name_Under-, Nightwear  \\\n",
       "0                                  0                                     0   \n",
       "1                                  0                                     0   \n",
       "2                                  0                                     0   \n",
       "3                                  0                                     0   \n",
       "4                                  0                                     0   \n",
       "\n",
       "   garment_group_name_Unknown  \\\n",
       "0                           0   \n",
       "1                           0   \n",
       "2                           0   \n",
       "3                           0   \n",
       "4                           0   \n",
       "\n",
       "   garment_group_name_Woven/Jersey/Knitted mix Baby  \n",
       "0                                                 0  \n",
       "1                                                 0  \n",
       "2                                                 0  \n",
       "3                                                 0  \n",
       "4                                                 1  \n",
       "\n",
       "[5 rows x 455 columns]"
      ]
     },
     "execution_count": 19,
     "metadata": {},
     "output_type": "execute_result"
    }
   ],
   "source": [
    "#Choose features to build feature space and dummify categorical features\n",
    "features = feature_subset\n",
    "df1 = df1[['customer_id', 'article_id'] + features]\n",
    "dummies_df = pd.get_dummies(df1, columns=features)\n",
    "dummies_df.head()"
   ]
  },
  {
   "cell_type": "code",
   "execution_count": 15,
   "id": "c55a136a",
   "metadata": {
    "tags": []
   },
   "outputs": [
    {
     "data": {
      "text/plain": [
       "9642"
      ]
     },
     "execution_count": 15,
     "metadata": {},
     "output_type": "execute_result"
    }
   ],
   "source": [
    "# checking for number of unique customer ids\n",
    "df1.customer_id.nunique()"
   ]
  },
  {
   "cell_type": "code",
   "execution_count": 16,
   "id": "96194be9-93be-47d9-bf8f-01a740ef10c0",
   "metadata": {
    "tags": []
   },
   "outputs": [
    {
     "data": {
      "text/plain": [
       "46050"
      ]
     },
     "execution_count": 16,
     "metadata": {},
     "output_type": "execute_result"
    }
   ],
   "source": [
    "#checking for number of unique articles\n",
    "merged_df['article_id'].nunique()"
   ]
  },
  {
   "cell_type": "code",
   "execution_count": 18,
   "id": "a3e5ddaf-1282-407c-8370-fc433321b939",
   "metadata": {
    "tags": []
   },
   "outputs": [
    {
     "data": {
      "text/html": [
       "<div>\n",
       "<style scoped>\n",
       "    .dataframe tbody tr th:only-of-type {\n",
       "        vertical-align: middle;\n",
       "    }\n",
       "\n",
       "    .dataframe tbody tr th {\n",
       "        vertical-align: top;\n",
       "    }\n",
       "\n",
       "    .dataframe thead th {\n",
       "        text-align: right;\n",
       "    }\n",
       "</style>\n",
       "<table border=\"1\" class=\"dataframe\">\n",
       "  <thead>\n",
       "    <tr style=\"text-align: right;\">\n",
       "      <th></th>\n",
       "      <th>customer_id</th>\n",
       "      <th>article_id</th>\n",
       "      <th>product_group_name_Accessories</th>\n",
       "      <th>product_group_name_Bags</th>\n",
       "      <th>product_group_name_Cosmetic</th>\n",
       "      <th>product_group_name_Garment Full body</th>\n",
       "      <th>product_group_name_Garment Lower body</th>\n",
       "      <th>product_group_name_Garment Upper body</th>\n",
       "      <th>product_group_name_Garment and Shoe care</th>\n",
       "      <th>product_group_name_Items</th>\n",
       "      <th>...</th>\n",
       "      <th>garment_group_name_Shorts</th>\n",
       "      <th>garment_group_name_Skirts</th>\n",
       "      <th>garment_group_name_Socks and Tights</th>\n",
       "      <th>garment_group_name_Special Offers</th>\n",
       "      <th>garment_group_name_Swimwear</th>\n",
       "      <th>garment_group_name_Trousers</th>\n",
       "      <th>garment_group_name_Trousers Denim</th>\n",
       "      <th>garment_group_name_Under-, Nightwear</th>\n",
       "      <th>garment_group_name_Unknown</th>\n",
       "      <th>garment_group_name_Woven/Jersey/Knitted mix Baby</th>\n",
       "    </tr>\n",
       "  </thead>\n",
       "  <tbody>\n",
       "    <tr>\n",
       "      <th>0</th>\n",
       "      <td>0247a4cfbe56ac5e1c0b5a91b0ab0aad812f6fca13d4fd...</td>\n",
       "      <td>618840005</td>\n",
       "      <td>0</td>\n",
       "      <td>0</td>\n",
       "      <td>0</td>\n",
       "      <td>0</td>\n",
       "      <td>0</td>\n",
       "      <td>1</td>\n",
       "      <td>0</td>\n",
       "      <td>0</td>\n",
       "      <td>...</td>\n",
       "      <td>0</td>\n",
       "      <td>0</td>\n",
       "      <td>0</td>\n",
       "      <td>0</td>\n",
       "      <td>0</td>\n",
       "      <td>0</td>\n",
       "      <td>0</td>\n",
       "      <td>0</td>\n",
       "      <td>0</td>\n",
       "      <td>0</td>\n",
       "    </tr>\n",
       "  </tbody>\n",
       "</table>\n",
       "<p>1 rows × 455 columns</p>\n",
       "</div>"
      ],
      "text/plain": [
       "                                         customer_id  article_id  \\\n",
       "0  0247a4cfbe56ac5e1c0b5a91b0ab0aad812f6fca13d4fd...   618840005   \n",
       "\n",
       "   product_group_name_Accessories  product_group_name_Bags  \\\n",
       "0                               0                        0   \n",
       "\n",
       "   product_group_name_Cosmetic  product_group_name_Garment Full body  \\\n",
       "0                            0                                     0   \n",
       "\n",
       "   product_group_name_Garment Lower body  \\\n",
       "0                                      0   \n",
       "\n",
       "   product_group_name_Garment Upper body  \\\n",
       "0                                      1   \n",
       "\n",
       "   product_group_name_Garment and Shoe care  product_group_name_Items  ...  \\\n",
       "0                                         0                         0  ...   \n",
       "\n",
       "   garment_group_name_Shorts  garment_group_name_Skirts  \\\n",
       "0                          0                          0   \n",
       "\n",
       "   garment_group_name_Socks and Tights  garment_group_name_Special Offers  \\\n",
       "0                                    0                                  0   \n",
       "\n",
       "   garment_group_name_Swimwear  garment_group_name_Trousers  \\\n",
       "0                            0                            0   \n",
       "\n",
       "   garment_group_name_Trousers Denim  garment_group_name_Under-, Nightwear  \\\n",
       "0                                  0                                     0   \n",
       "\n",
       "   garment_group_name_Unknown  \\\n",
       "0                           0   \n",
       "\n",
       "   garment_group_name_Woven/Jersey/Knitted mix Baby  \n",
       "0                                                 0  \n",
       "\n",
       "[1 rows x 455 columns]"
      ]
     },
     "execution_count": 18,
     "metadata": {},
     "output_type": "execute_result"
    }
   ],
   "source": [
    "#Choose features to build feature space\n",
    "features = feature_subset\n",
    "df1 = df1[['customer_id', 'article_id'] + features]\n",
    "dummies_df = pd.get_dummies(df1, columns=features)\n",
    "dummies_df.head(1)"
   ]
  },
  {
   "cell_type": "code",
   "execution_count": 11,
   "id": "f8150b83-a416-4953-a666-51c166570993",
   "metadata": {
    "tags": []
   },
   "outputs": [
    {
     "data": {
      "text/plain": [
       "Index(['customer_id', 'article_id', 'product_group_name_Accessories',\n",
       "       'product_group_name_Bags', 'product_group_name_Cosmetic',\n",
       "       'product_group_name_Furniture', 'product_group_name_Garment Full body',\n",
       "       'product_group_name_Garment Lower body',\n",
       "       'product_group_name_Garment Upper body',\n",
       "       'product_group_name_Garment and Shoe care',\n",
       "       ...\n",
       "       'garment_group_name_Shorts', 'garment_group_name_Skirts',\n",
       "       'garment_group_name_Socks and Tights',\n",
       "       'garment_group_name_Special Offers', 'garment_group_name_Swimwear',\n",
       "       'garment_group_name_Trousers', 'garment_group_name_Trousers Denim',\n",
       "       'garment_group_name_Under-, Nightwear', 'garment_group_name_Unknown',\n",
       "       'garment_group_name_Woven/Jersey/Knitted mix Baby'],\n",
       "      dtype='object', length=456)"
      ]
     },
     "execution_count": 11,
     "metadata": {},
     "output_type": "execute_result"
    }
   ],
   "source": [
    "# checking for columns in file\n",
    "dummies_df.columns"
   ]
  },
  {
   "cell_type": "code",
   "execution_count": 22,
   "id": "8407033a-abd4-4b0c-9bf6-40d3207c8ecf",
   "metadata": {
    "tags": []
   },
   "outputs": [],
   "source": [
    "#saving file dummies_df\n",
    "dummies_df.to_csv('dummies_df.csv', index = False)"
   ]
  },
  {
   "cell_type": "code",
   "execution_count": null,
   "id": "a28db661-6792-4622-bfe5-762ef6e07081",
   "metadata": {},
   "outputs": [],
   "source": []
  }
 ],
 "metadata": {
  "kernelspec": {
   "display_name": "Python 3 (ipykernel)",
   "language": "python",
   "name": "python3"
  },
  "language_info": {
   "codemirror_mode": {
    "name": "ipython",
    "version": 3
   },
   "file_extension": ".py",
   "mimetype": "text/x-python",
   "name": "python",
   "nbconvert_exporter": "python",
   "pygments_lexer": "ipython3",
   "version": "3.11.4"
  }
 },
 "nbformat": 4,
 "nbformat_minor": 5
}
